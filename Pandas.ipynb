{
 "cells": [
  {
   "cell_type": "code",
   "execution_count": 10,
   "metadata": {},
   "outputs": [],
   "source": [
    "import pandas as pd\n",
    "data = pd.read_json('/home/keshavsingh/keshav-nlp2019/data/benchmark_ibm_acl_train.jsonl', lines=True)"
   ]
  },
  {
   "cell_type": "code",
   "execution_count": 11,
   "metadata": {},
   "outputs": [
    {
     "data": {
      "text/plain": [
       "violent video games promote violent behavior, attitudes and beliefs by desensitizing an individual to aggression                                                            60\n",
       "Excessive exposure to violent video games and other violent media has been linked to aggressive behaviour                                                                   56\n",
       "exposure to violent video games causes at least a temporary increase in aggression and that this exposure correlates with aggression in the real world                      54\n",
       "exposure to violent video games results in increased physiological arousal, aggression-related thoughts and feelings as well as decreased prosocial behavior                52\n",
       "a correlation between children playing violent video games and suffering psychological effects                                                                              52\n",
       "exposure to violent video games causes both short term and long term aggression in players and decreases empathy and prosocial behavior                                     52\n",
       "violent video games can increase children's aggression                                                                                                                      46\n",
       "neurological link between playing violent video games and aggressive behaviour in children and teenagers                                                                    42\n",
       "to ensure that minority groups within a society are included in all programs                                                                                                42\n",
       "Affirmative action is intended to promote  equal opportunity                                                                                                                40\n",
       "violence in video games is not causally linked with aggressive tendencies                                                                                                   34\n",
       "there was no direct link between violent video games and their influence on children                                                                                        32\n",
       "video game violence is not related to serious aggressive behavior in real life                                                                                              32\n",
       "no evidence violent games are psychologically harmful to minors                                                                                                             32\n",
       "no long-term relationship between playing violent video game and youth violence or bullying                                                                                 32\n",
       "video game publishers unethically train children in the use of weapons and, more importantly, harden them emotionally to the act of murder                                  26\n",
       "The lotteries proved very popular and were hailed as a painless form of taxation                                                                                            24\n",
       "Internet gambling has become one of the most popular and lucrative business present on the Internet                                                                         22\n",
       "Everyone has the right to seek and to enjoy in other countries asylum from persecution                                                                                      22\n",
       "Physical inactivity is increasing or high among many groups in the population                                                                                               22\n",
       "all people should be treated similarly                                                                                                                                      22\n",
       "violent games affect students positively and not negatively                                                                                                                 20\n",
       "it helps to compensate for past discrimination, persecution or exploitation by the ruling class of a culture                                                                18\n",
       "social and political issues surrounding the issue of immigration                                                                                                            18\n",
       "violent video games may increase mild forms of aggressive behavior in children and young adults                                                                             18\n",
       "video games have many healthy and positive aspects                                                                                                                          16\n",
       "societal media consumption and violent crime rates are not well associated                                                                                                  16\n",
       "no one has a legal right to have any demographic characteristic they possess be considered a favorable point on their behalf                                                16\n",
       "merit\" itself should be a primary consideration during evaluation                                                                                                           16\n",
       "replaces old wrongs with new wrongs                                                                                                                                         14\n",
       "                                                                                                                                                                            ..\n",
       "legal gambling provides significant government revenue                                                                                                                       2\n",
       "with no medical data to support these claimed health problems, it is, at best, questionable                                                                                  2\n",
       "immigration threatens national identity                                                                                                                                      2\n",
       "they increase animosity toward preferred groups                                                                                                                              2\n",
       "Motivation for affirmative action policies is to redress the effects of past discrimination                                                                                  2\n",
       "a high degree of relationship between violent games and youth violence                                                                                                       2\n",
       "members of minorities require specific provisions and rights to ensure that they are not marginalised within society                                                         2\n",
       "It may increase racial tension and benefit the more privileged people within minority groups at the expense of the least fortunate within majority groups                    2\n",
       "people die as a result of physical inactivity                                                                                                                                2\n",
       "everyone can exercise the right to seek asylum and find safe refuge in another state                                                                                         2\n",
       "The use of performance-enhancing substances by players is illegal and ethically \"wrong                                                                                       2\n",
       "Betting on team sports has become an important service industry in many countries                                                                                            2\n",
       "Only a fraction of all the illegal immigrants is actually eligible for this status                                                                                           2\n",
       "violent games help students deal with stress and aggression                                                                                                                  2\n",
       "Damage a sense of community and nationality                                                                                                                                  2\n",
       "affirmative action hurts its intended beneficiaries                                                                                                                          2\n",
       "there was no \"compelling\" link between violent video games and its effects on children                                                                                       2\n",
       "problem gambling increases the lifetime risk of suicide                                                                                                                      2\n",
       "there is social utility in expressive and imaginative forms of entertainment, even if they contain violence                                                                  2\n",
       "migration provided a positive resource for the economy                                                                                                                       2\n",
       "there is little danger from anabolica, as they call it, when the athletes are kept on strictly monitored programmes                                                          2\n",
       "the model of ideal education is that which occurs when people go on their own initiative to discover things                                                                  2\n",
       "heavy exposure to media violence can lead to more aggressive behavior                                                                                                        2\n",
       "these policies demonstrate an overt preference for applicants from particular backgrounds over better-qualified (or equally-qualified) candidates from other backgrounds     2\n",
       "internet gambling as a legitimate activity that citizens have the right to engage in                                                                                         2\n",
       "a lack of physical activity is thought to explain most cases of obesity                                                                                                      2\n",
       "political refugees, may be fleeing for their lives                                                                                                                           2\n",
       "immigrants can \"swamp\" a local population                                                                                                                                    2\n",
       "affirmative action devalues the accomplishments of people who belong to a group it's supposed to help                                                                        2\n",
       "undermines the achievements of minorities                                                                                                                                    2\n",
       "Name: claim, Length: 260, dtype: int64"
      ]
     },
     "execution_count": 11,
     "metadata": {},
     "output_type": "execute_result"
    }
   ],
   "source": [
    "data['claim'].value_counts()"
   ]
  },
  {
   "cell_type": "code",
   "execution_count": 12,
   "metadata": {},
   "outputs": [
    {
     "data": {
      "text/plain": [
       "religious belief is a delusion                                                                                                                                              42\n",
       "their teachings are outdated in comparison with modern Western morals                                                                                                       34\n",
       "religion is a positive civilizing influence on society                                                                                                                      30\n",
       "Higher levels of economic inequality tend to intensify social hierarchies and generally degrade the quality of social relations                                             16\n",
       "the root cause of the problem: U.S. demand                                                                                                                                  14\n",
       "the ATF knowingly allowed thousands of guns to be bought by suspected arms traffickers (\"gunrunners\") working through straw purchasers on behalf of Mexican drug cartels    14\n",
       "existence must be due to an agent cause                                                                                                                                     14\n",
       "the existence of the Universe requires an explanation, and the creation of the Universe by a First Cause, generally assumed to be God, is that explanation                  14\n",
       "American) government has been sending weapons to Mexico in a premeditated and systematic manner, knowing that their destinations were Mexican criminal organizations        14\n",
       "most of the financing for the Mexican traffickers comes from American drug consumers                                                                                        14\n",
       "a god created the Universe                                                                                                                                                  12\n",
       "a 'significant' percentage of their firearms originate from gun stores and other sources in the U.S                                                                         12\n",
       "religions can be harmful                                                                                                                                                    12\n",
       "atheism systematically influences people to do bad things                                                                                                                   10\n",
       "something caused the Universe to exist, and this First Cause must be God                                                                                                    10\n",
       "God cannot exist with, or would want to prevent, all evils                                                                                                                  10\n",
       "inequality is harmful for economic development                                                                                                                              10\n",
       "economic inequality reduces social cohesion and increases social unrest                                                                                                     10\n",
       "God and evil are logically incompatible                                                                                                                                     10\n",
       "American guns are arming the Mexican drug cartels                                                                                                                           10\n",
       "the existences of such a god and of evil are logically incompatible                                                                                                         10\n",
       "reliance on divine authority lends itself to authoritarianism and dogmatism                                                                                                  8\n",
       "America's] insatiable demand for illegal drugs fuels the drug trade                                                                                                          8\n",
       "natural (non-supernatural) theories adequately explain the development of religion and belief in gods                                                                        8\n",
       "theistic religions devalue human compassion and morality                                                                                                                     8\n",
       "a certain amount of redistribution would be justified                                                                                                                        8\n",
       "the majority of illegal guns in Mexico really come from the United States                                                                                                    8\n",
       "it creates dependence to the state                                                                                                                                           6\n",
       "atheism is a superior basis for ethics                                                                                                                                       6\n",
       "Atheism has been criticized as a faith in itself                                                                                                                             6\n",
       "                                                                                                                                                                            ..\n",
       "welfare only bred dependence on the government                                                                                                                               2\n",
       "God's existence can be demonstrated                                                                                                                                          2\n",
       "when a person's understanding ponders over the existence of God it encounters nothing but contradictions                                                                     2\n",
       "an increased gap between rich and poor increases the incentives for competition and innovation within an economy                                                             2\n",
       "it is the most decisive negation of human liberty                                                                                                                            2\n",
       "Economic inequality is thought to reduce distributive efficiency within society                                                                                              2\n",
       "evolution can explain the apparent design in nature                                                                                                                          2\n",
       "theists are able to offer justification for morality, while atheists are not                                                                                                 2\n",
       "is divisive and dangerous                                                                                                                                                    2\n",
       "all phenomena could be understood as resulting from purely natural causes                                                                                                    2\n",
       "religion is socially dangerous                                                                                                                                               2\n",
       "religion was born of fear and ignorance                                                                                                                                      2\n",
       "The theory of natural selection is much simpler than the theory of the existence of such a complex being, and thus preferable                                                2\n",
       "God is improbable                                                                                                                                                            2\n",
       "redistribution of legitimately obtained property cannot ever be just                                                                                                         2\n",
       "redistributive policies that have an adverse effect on investment and economic growth                                                                                        2\n",
       "there was a \"first cause\", or \"prime mover\" who is identified as God                                                                                                         2\n",
       "a benevolent deity ought to create only happy creatures, not an imperfect world like the real world                                                                          2\n",
       "an omnipotent and omniscient being would not have any reason to act in any way, specifically by creating the universe                                                        2\n",
       "necessarily ends in the enslavement of mankind                                                                                                                               2\n",
       "nothing exists beyond the natural universe                                                                                                                                   2\n",
       "evolution by natural selection can explain apparent design in nature                                                                                                         2\n",
       "economic inequality invariably translates to political inequality                                                                                                            2\n",
       "religions provide a net benefit to individuals and society                                                                                                                   2\n",
       "God, the beginning and end of all, can, by the natural light of human reason, be known with certainty from the works of creation                                             2\n",
       "Natural selection and similar scientific theories are superior to a \"God hypothesis\"Ñthe illusion of intelligent designÑin explaining the living world and the cosmos        2\n",
       "life and the universe were created by a deity                                                                                                                                2\n",
       "religious beliefs and traditions lack scientific or rational foundations                                                                                                     2\n",
       "where design fails to explain complexity, evolution by natural selection succeeds                                                                                            2\n",
       "religion as a human invention used to frighten people into following moral order                                                                                             2\n",
       "Name: claim, Length: 90, dtype: int64"
      ]
     },
     "execution_count": 12,
     "metadata": {},
     "output_type": "execute_result"
    }
   ],
   "source": [
    "data2 = pd.read_json('/home/keshavsingh/keshav-nlp2019/data/test_ibm_acl.jsonl', lines=True)\n",
    "data2['claim'].value_counts()"
   ]
  },
  {
   "cell_type": "code",
   "execution_count": null,
   "metadata": {},
   "outputs": [],
   "source": []
  }
 ],
 "metadata": {
  "kernelspec": {
   "display_name": "Python 3",
   "language": "python",
   "name": "python3"
  },
  "language_info": {
   "codemirror_mode": {
    "name": "ipython",
    "version": 3
   },
   "file_extension": ".py",
   "mimetype": "text/x-python",
   "name": "python",
   "nbconvert_exporter": "python",
   "pygments_lexer": "ipython3",
   "version": "3.6.6"
  }
 },
 "nbformat": 4,
 "nbformat_minor": 2
}
