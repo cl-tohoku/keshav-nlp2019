{
 "cells": [
  {
   "cell_type": "code",
   "execution_count": 2,
   "metadata": {},
   "outputs": [],
   "source": [
    "import pandas as pd\n",
    "import json\n",
    "with open('benchmark_ibm_acl_train_p.jsonl') as f:\n",
    "    data = [json.loads(line) for line in f]"
   ]
  },
  {
   "cell_type": "code",
   "execution_count": 34,
   "metadata": {},
   "outputs": [],
   "source": [
    "df = pd.DataFrame(data)\n",
    "df1 = df[['claim','premise','label']]"
   ]
  },
  {
   "cell_type": "code",
   "execution_count": 39,
   "metadata": {},
   "outputs": [
    {
     "data": {
      "text/html": [
       "<div>\n",
       "<style scoped>\n",
       "    .dataframe tbody tr th:only-of-type {\n",
       "        vertical-align: middle;\n",
       "    }\n",
       "\n",
       "    .dataframe tbody tr th {\n",
       "        vertical-align: top;\n",
       "    }\n",
       "\n",
       "    .dataframe thead th {\n",
       "        text-align: right;\n",
       "    }\n",
       "</style>\n",
       "<table border=\"1\" class=\"dataframe\">\n",
       "  <thead>\n",
       "    <tr style=\"text-align: right;\">\n",
       "      <th></th>\n",
       "      <th>claim</th>\n",
       "      <th>label</th>\n",
       "      <th>premise</th>\n",
       "      <th>warrant</th>\n",
       "    </tr>\n",
       "  </thead>\n",
       "  <tbody>\n",
       "    <tr>\n",
       "      <th>0</th>\n",
       "      <td>exposure to violent video games causes at leas...</td>\n",
       "      <td>1</td>\n",
       "      <td>The most recent large scale meta-anlysis-- exa...</td>\n",
       "      <td>The U.S. should support the Kurds only.</td>\n",
       "    </tr>\n",
       "    <tr>\n",
       "      <th>1</th>\n",
       "      <td>exposure to violent video games causes at leas...</td>\n",
       "      <td>1</td>\n",
       "      <td>One study did find an increase in reports of b...</td>\n",
       "      <td>Assad has helped ISIS rise.</td>\n",
       "    </tr>\n",
       "    <tr>\n",
       "      <th>2</th>\n",
       "      <td>exposure to violent video games causes at leas...</td>\n",
       "      <td>1</td>\n",
       "      <td>when one combines all relevant empirical studi...</td>\n",
       "      <td>The U.S. should support the Kurds only.</td>\n",
       "    </tr>\n",
       "    <tr>\n",
       "      <th>3</th>\n",
       "      <td>exposure to violent video games causes at leas...</td>\n",
       "      <td>1</td>\n",
       "      <td>Research published in 2001 suggested that viol...</td>\n",
       "      <td>The U.S. should support the Kurds only.</td>\n",
       "    </tr>\n",
       "    <tr>\n",
       "      <th>4</th>\n",
       "      <td>exposure to violent video games causes at leas...</td>\n",
       "      <td>1</td>\n",
       "      <td>In 2004 the American Psychological Association...</td>\n",
       "      <td>Assad has helped ISIS rise.</td>\n",
       "    </tr>\n",
       "  </tbody>\n",
       "</table>\n",
       "</div>"
      ],
      "text/plain": [
       "                                               claim  label  \\\n",
       "0  exposure to violent video games causes at leas...      1   \n",
       "1  exposure to violent video games causes at leas...      1   \n",
       "2  exposure to violent video games causes at leas...      1   \n",
       "3  exposure to violent video games causes at leas...      1   \n",
       "4  exposure to violent video games causes at leas...      1   \n",
       "\n",
       "                                             premise  \\\n",
       "0  The most recent large scale meta-anlysis-- exa...   \n",
       "1  One study did find an increase in reports of b...   \n",
       "2  when one combines all relevant empirical studi...   \n",
       "3  Research published in 2001 suggested that viol...   \n",
       "4  In 2004 the American Psychological Association...   \n",
       "\n",
       "                                   warrant  \n",
       "0  The U.S. should support the Kurds only.  \n",
       "1              Assad has helped ISIS rise.  \n",
       "2  The U.S. should support the Kurds only.  \n",
       "3  The U.S. should support the Kurds only.  \n",
       "4              Assad has helped ISIS rise.  "
      ]
     },
     "execution_count": 39,
     "metadata": {},
     "output_type": "execute_result"
    }
   ],
   "source": [
    "df.head()\n"
   ]
  },
  {
   "cell_type": "code",
   "execution_count": null,
   "metadata": {},
   "outputs": [],
   "source": []
  }
 ],
 "metadata": {
  "kernelspec": {
   "display_name": "Python 3",
   "language": "python",
   "name": "python3"
  },
  "language_info": {
   "codemirror_mode": {
    "name": "ipython",
    "version": 3
   },
   "file_extension": ".py",
   "mimetype": "text/x-python",
   "name": "python",
   "nbconvert_exporter": "python",
   "pygments_lexer": "ipython3",
   "version": "3.6.6"
  }
 },
 "nbformat": 4,
 "nbformat_minor": 2
}
